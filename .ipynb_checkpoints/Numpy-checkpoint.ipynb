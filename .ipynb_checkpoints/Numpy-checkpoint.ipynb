{
 "cells": [
  {
   "cell_type": "markdown",
   "metadata": {},
   "source": [
    "# Numpy tutorial\n",
    "\n",
    "Numpy is a Python package. It stands for 'Numerical Python'. It is a library consisting of multidimensional array objects and a collection of routines for processing of array."
   ]
  },
  {
   "cell_type": "code",
   "execution_count": 1,
   "metadata": {
    "collapsed": true
   },
   "outputs": [],
   "source": [
    "import numpy as np"
   ]
  },
  {
   "cell_type": "markdown",
   "metadata": {},
   "source": [
    "## Operations\n",
    "\n",
    "* Mathematical and logical operations on arrays.\n",
    "* Fourier transforms and routines for shape manipulation.\n",
    "* Operations related to linear algebra."
   ]
  },
  {
   "cell_type": "markdown",
   "metadata": {},
   "source": [
    "## Ndarray Object\n",
    "\n",
    "The most important object defined in NumPu is an N-dimensional array type called __ndarray__. It describes the collection of items of the same type. Items in the collection can be accessed using a zero-based index.\n",
    "\n",
    "The basic ndarray is created using an array finction in NumPy: "
   ]
  },
  {
   "cell_type": "code",
   "execution_count": 2,
   "metadata": {},
   "outputs": [
    {
     "data": {
      "text/plain": [
       "array(<class 'object'>, dtype=object)"
      ]
     },
     "execution_count": 2,
     "metadata": {},
     "output_type": "execute_result"
    }
   ],
   "source": [
    "np.array(object, dtype=None, copy=True, order=None, subok=False, ndmin=0)"
   ]
  },
  {
   "cell_type": "markdown",
   "metadata": {},
   "source": [
    "| Parameter | Description |\n",
    "|------|------|\n",
    "| __object__ | Any object exposing the array interface method returns an array, or any (nested) sequence |\n",
    "| __dtype__ | Desired data type of array, optional |\n",
    "| __copy__ | By default, the object is copied |\n",
    "| __order__ | C (row major) or F (column major) or A (any)(default) |\n",
    "| __subok__ | By default, returned array forced to be a base class array. If true, subclasses passed through |\n",
    "| __ndimin__ | Specifies minimum dimensions of resultant array |\n"
   ]
  },
  {
   "cell_type": "code",
   "execution_count": 3,
   "metadata": {},
   "outputs": [
    {
     "name": "stdout",
     "output_type": "stream",
     "text": [
      "[1 2 3]\n"
     ]
    }
   ],
   "source": [
    "a = np.array([1, 2, 3])\n",
    "print(a)"
   ]
  },
  {
   "cell_type": "code",
   "execution_count": 4,
   "metadata": {},
   "outputs": [
    {
     "name": "stdout",
     "output_type": "stream",
     "text": [
      "[[1 2]\n",
      " [3 4]]\n"
     ]
    }
   ],
   "source": [
    "b = np.array([[1, 2], [3, 4]])\n",
    "print(b)"
   ]
  },
  {
   "cell_type": "markdown",
   "metadata": {},
   "source": [
    "__Minimum dimensions__"
   ]
  },
  {
   "cell_type": "code",
   "execution_count": 5,
   "metadata": {},
   "outputs": [
    {
     "name": "stdout",
     "output_type": "stream",
     "text": [
      "[[1 2 3 4]]\n"
     ]
    }
   ],
   "source": [
    "a = np.array([1, 2, 3, 4], ndmin=2)\n",
    "print(a)"
   ]
  },
  {
   "cell_type": "markdown",
   "metadata": {},
   "source": [
    "__dtype parameter__"
   ]
  },
  {
   "cell_type": "code",
   "execution_count": 6,
   "metadata": {},
   "outputs": [
    {
     "name": "stdout",
     "output_type": "stream",
     "text": [
      "[ 1.+0.j  2.+0.j  3.+0.j]\n"
     ]
    }
   ],
   "source": [
    "a = np.array([1, 2, 3], dtype=complex)\n",
    "print(a)"
   ]
  },
  {
   "cell_type": "markdown",
   "metadata": {},
   "source": [
    "## Data Types\n",
    "\n",
    "| Type | Description |\n",
    "|------|------|\n",
    "| bool\\_ | Boolean (True or False) stored as a byte |\n",
    "| int\\_ | Default integer type (same as C long) |\n",
    "| intc | Identical to C int |\n",
    "| intp | Integer used for indexing | \n",
    "| int8 | Byte (-128 to 127) | \n",
    "| int16, int32, int64 | ... |\n",
    "| uint8, uint16, uint32, uint64 | Unsigned integer |\n",
    "| float\\_ | Shorthand for float64 |\n",
    "| float32, float64 | Float |\n",
    "| complex\\_ | Shorthand for complex128 |\n",
    "| complex64, complex128 | Complex number |"
   ]
  },
  {
   "cell_type": "markdown",
   "metadata": {},
   "source": [
    "## Array Attributes\n",
    "\n",
    "### ndarray.shape\n",
    "\n",
    "This array attribute returns a tuple consisting of array dimensions. It can also be used to resize the array."
   ]
  },
  {
   "cell_type": "code",
   "execution_count": 7,
   "metadata": {},
   "outputs": [
    {
     "name": "stdout",
     "output_type": "stream",
     "text": [
      "(2, 3)\n"
     ]
    }
   ],
   "source": [
    "a = np.array([[1, 2, 3], [4, 5, 6]])\n",
    "print(a.shape)"
   ]
  },
  {
   "cell_type": "code",
   "execution_count": 8,
   "metadata": {},
   "outputs": [
    {
     "name": "stdout",
     "output_type": "stream",
     "text": [
      "[[1 2]\n",
      " [3 4]\n",
      " [5 6]]\n"
     ]
    }
   ],
   "source": [
    "# this resizes the ndarray\n",
    "\n",
    "a.shape = (3, 2)\n",
    "print(a)"
   ]
  },
  {
   "cell_type": "markdown",
   "metadata": {},
   "source": [
    "NumPy also provides a reshape function to resize an array."
   ]
  },
  {
   "cell_type": "code",
   "execution_count": 9,
   "metadata": {},
   "outputs": [
    {
     "name": "stdout",
     "output_type": "stream",
     "text": [
      "[[1 2 3]\n",
      " [4 5 6]]\n"
     ]
    }
   ],
   "source": [
    "b = a.reshape(2, 3)\n",
    "print(b)"
   ]
  },
  {
   "cell_type": "markdown",
   "metadata": {},
   "source": [
    "### ndarray.ndim\n",
    "\n",
    "This array attribute returns the number of array dimensions. "
   ]
  },
  {
   "cell_type": "code",
   "execution_count": 10,
   "metadata": {
    "scrolled": true
   },
   "outputs": [
    {
     "name": "stdout",
     "output_type": "stream",
     "text": [
      "[ 0  1  2  3  4  5  6  7  8  9 10 11 12 13 14 15 16 17 18 19 20 21 22 23]\n"
     ]
    }
   ],
   "source": [
    "a = np.arange(24)\n",
    "print(a)"
   ]
  },
  {
   "cell_type": "code",
   "execution_count": 11,
   "metadata": {},
   "outputs": [
    {
     "name": "stdout",
     "output_type": "stream",
     "text": [
      "[[[ 0  1  2]\n",
      "  [ 3  4  5]\n",
      "  [ 6  7  8]\n",
      "  [ 9 10 11]]\n",
      "\n",
      " [[12 13 14]\n",
      "  [15 16 17]\n",
      "  [18 19 20]\n",
      "  [21 22 23]]]\n"
     ]
    }
   ],
   "source": [
    "b = a.reshape(2, 4, 3)\n",
    "# b is having three dimensions\n",
    "print(b)"
   ]
  },
  {
   "cell_type": "markdown",
   "metadata": {},
   "source": [
    "### numpy.itemsize\n",
    "\n",
    "This array attribute returns the length of each element of array in bytes."
   ]
  },
  {
   "cell_type": "code",
   "execution_count": 12,
   "metadata": {},
   "outputs": [
    {
     "name": "stdout",
     "output_type": "stream",
     "text": [
      "4\n"
     ]
    }
   ],
   "source": [
    "x = np.array([1, 2, 3, 4, 5], dtype=np.float32)\n",
    "print(x.itemsize)"
   ]
  },
  {
   "cell_type": "markdown",
   "metadata": {
    "collapsed": true
   },
   "source": [
    "## Array Creation Routines\n",
    "\n",
    "A new __ndarray__ object can be constructed by any of the following array creation routines or using a low-lewel ndarray constructor."
   ]
  },
  {
   "cell_type": "markdown",
   "metadata": {},
   "source": [
    "### numpy.empty\n",
    "\n",
    "It createes an unitialized array of specified shape and dtype."
   ]
  },
  {
   "cell_type": "code",
   "execution_count": 13,
   "metadata": {},
   "outputs": [
    {
     "data": {
      "text/plain": [
       "array([[1, 2],\n",
       "       [3, 4],\n",
       "       [5, 6]])"
      ]
     },
     "execution_count": 13,
     "metadata": {},
     "output_type": "execute_result"
    }
   ],
   "source": [
    "np.empty(shape=[3, 2], dtype=int, order='C')"
   ]
  },
  {
   "cell_type": "markdown",
   "metadata": {},
   "source": [
    "| Parameter | Description |\n",
    "|------|------|\n",
    "| __shape__ | Shape of an empty array in int or tuple of int |\n",
    "| __dtype__ | Desired output data type. Optional |\n",
    "| __order__ | 'C' for C-style row-major array, 'F' for FORTRAN style column-major array |"
   ]
  },
  {
   "cell_type": "markdown",
   "metadata": {},
   "source": [
    "### numpy.zeros\n",
    "\n",
    "Returns a new array of specified size, filled with zeros."
   ]
  },
  {
   "cell_type": "code",
   "execution_count": 14,
   "metadata": {},
   "outputs": [
    {
     "data": {
      "text/plain": [
       "array([[ 0.,  0.,  0.],\n",
       "       [ 0.,  0.,  0.],\n",
       "       [ 0.,  0.,  0.],\n",
       "       [ 0.,  0.,  0.]])"
      ]
     },
     "execution_count": 14,
     "metadata": {},
     "output_type": "execute_result"
    }
   ],
   "source": [
    "np.zeros([4, 3], dtype=float, order='C')"
   ]
  },
  {
   "cell_type": "code",
   "execution_count": 15,
   "metadata": {},
   "outputs": [
    {
     "data": {
      "text/plain": [
       "array([[ 0.,  0.],\n",
       "       [ 0.,  0.]])"
      ]
     },
     "execution_count": 15,
     "metadata": {},
     "output_type": "execute_result"
    }
   ],
   "source": [
    "np.zeros((2, 2))"
   ]
  },
  {
   "cell_type": "code",
   "execution_count": 16,
   "metadata": {},
   "outputs": [
    {
     "data": {
      "text/plain": [
       "array([ 0.,  0.,  0.,  0.,  0.])"
      ]
     },
     "execution_count": 16,
     "metadata": {},
     "output_type": "execute_result"
    }
   ],
   "source": [
    "np.zeros(5)"
   ]
  },
  {
   "cell_type": "markdown",
   "metadata": {},
   "source": [
    "### numpy.ones\n",
    "\n",
    "Returns a new array of specified size, filled with ones."
   ]
  },
  {
   "cell_type": "code",
   "execution_count": 17,
   "metadata": {},
   "outputs": [
    {
     "data": {
      "text/plain": [
       "array([ 1.,  1.,  1.,  1.,  1.,  1.,  1.])"
      ]
     },
     "execution_count": 17,
     "metadata": {},
     "output_type": "execute_result"
    }
   ],
   "source": [
    "np.ones(7)"
   ]
  },
  {
   "cell_type": "markdown",
   "metadata": {},
   "source": [
    "## Array From Existing Data"
   ]
  },
  {
   "cell_type": "markdown",
   "metadata": {},
   "source": [
    "### numpy.asarray\n",
    "\n",
    "Tris function is similar to numpy.array excepy for the fact that it has fewer parameters. This routine is useful for converting Python sequence into ndarray."
   ]
  },
  {
   "cell_type": "markdown",
   "metadata": {},
   "source": [
    "| Parameter | Description | \n",
    "|-------|------|\n",
    "| __a__ | Input data in any for such as list, list of tuples, tuples, tuple of tuples or tuple of lists |\n",
    "| __dtype__ | By default, the data type of input data is applied to the resultant ndarray | \n",
    "| __order__ | C or F. C is default |"
   ]
  },
  {
   "cell_type": "code",
   "execution_count": 18,
   "metadata": {},
   "outputs": [
    {
     "name": "stdout",
     "output_type": "stream",
     "text": [
      "[1 2 3]\n"
     ]
    }
   ],
   "source": [
    "x = [1, 2, 3]\n",
    "a = np.asarray(x)\n",
    "print(a)"
   ]
  },
  {
   "cell_type": "code",
   "execution_count": 19,
   "metadata": {},
   "outputs": [
    {
     "name": "stdout",
     "output_type": "stream",
     "text": [
      "[(1, 2, 3) (4, 5)]\n"
     ]
    }
   ],
   "source": [
    "x = [(1, 2, 3), (4, 5)]\n",
    "a = np.asarray(x)\n",
    "print(a)"
   ]
  },
  {
   "cell_type": "markdown",
   "metadata": {},
   "source": [
    "### numpy.frombuffer\n",
    "\n",
    "This function interprets a buffer as one-dimensional array. Any object that exposes the buffer interface is used as parameter to return an ndarray."
   ]
  },
  {
   "cell_type": "markdown",
   "metadata": {},
   "source": [
    "| Parameter | Description | \n",
    "|-------|------|\n",
    "| __buffer__ | Any object that exposes buffer interface |\n",
    "| __dtype__ | Data type of returned ndarray. Defaults to float |\n",
    "| __count__ | The number of items to read, default -1 means all data |\n",
    "| __offset__ | The starting position to read from. Defaults is 0 |"
   ]
  },
  {
   "cell_type": "code",
   "execution_count": 20,
   "metadata": {},
   "outputs": [
    {
     "name": "stdout",
     "output_type": "stream",
     "text": [
      "[b'H' b'e' b'l' b'l' b'o' b' ' b'W' b'o' b'r' b'l' b'd']\n"
     ]
    }
   ],
   "source": [
    "s = b'Hello World'\n",
    "a = np.frombuffer(s, dtype='S1')\n",
    "print(a)"
   ]
  },
  {
   "cell_type": "markdown",
   "metadata": {},
   "source": [
    "### numpy.fromiter\n",
    "\n",
    "This function builds an ndarray object from any iterable object. A new one-dimensional array is returned by this function."
   ]
  },
  {
   "cell_type": "markdown",
   "metadata": {},
   "source": [
    "| Parameter | Description |\n",
    "|------|------|\n",
    "| __iterable__ | Any iterable object |\n",
    "| __dtype__ | Data type of resultant array |\n",
    "| __count__ | The number of items to be read from iterator. Default is -1 which means all data to be read |"
   ]
  },
  {
   "cell_type": "code",
   "execution_count": 21,
   "metadata": {},
   "outputs": [
    {
     "name": "stdout",
     "output_type": "stream",
     "text": [
      "range(0, 5)\n",
      "<range_iterator object at 0x11536d5d0>\n",
      "[ 0.  1.  2.  3.  4.]\n"
     ]
    }
   ],
   "source": [
    "l = range(5)\n",
    "it = iter(l)\n",
    "x = np.fromiter(it, dtype=float)\n",
    "print(l)\n",
    "print(it)\n",
    "print(x)"
   ]
  },
  {
   "cell_type": "markdown",
   "metadata": {},
   "source": [
    "## Array From Numerical Ranges"
   ]
  },
  {
   "cell_type": "markdown",
   "metadata": {},
   "source": [
    "### numpy.arange \n",
    "\n",
    "This function returns an ndarray object containing evenly spaced values within a given range."
   ]
  },
  {
   "cell_type": "markdown",
   "metadata": {},
   "source": [
    "| Parameter | Description |\n",
    "|------|------|\n",
    "| __start__ | The start of an interval. If omited, defaults to 0 |\n",
    "| __stop__ | The end of an interval (not including this number) | \n",
    "| __step__ | Spacing between values, defaults is 1 |\n",
    "| __dtype__ | Data type |\n"
   ]
  },
  {
   "cell_type": "code",
   "execution_count": 22,
   "metadata": {},
   "outputs": [
    {
     "data": {
      "text/plain": [
       "array([0, 1, 2, 3, 4])"
      ]
     },
     "execution_count": 22,
     "metadata": {},
     "output_type": "execute_result"
    }
   ],
   "source": [
    "np.arange(5)"
   ]
  },
  {
   "cell_type": "code",
   "execution_count": 23,
   "metadata": {},
   "outputs": [
    {
     "data": {
      "text/plain": [
       "array([ 0.,  1.,  2.,  3.,  4.])"
      ]
     },
     "execution_count": 23,
     "metadata": {},
     "output_type": "execute_result"
    }
   ],
   "source": [
    "np.arange(5, dtype=float)"
   ]
  },
  {
   "cell_type": "code",
   "execution_count": 24,
   "metadata": {},
   "outputs": [
    {
     "data": {
      "text/plain": [
       "array([10, 12, 14, 16, 18])"
      ]
     },
     "execution_count": 24,
     "metadata": {},
     "output_type": "execute_result"
    }
   ],
   "source": [
    "# start and stop parameters set\n",
    "np.arange(10, 20, 2)"
   ]
  },
  {
   "cell_type": "markdown",
   "metadata": {},
   "source": [
    "### numpy.linspace\n",
    "\n",
    "This function is similar to __arange()__ function. In this function, instead of step size, the number of evenly spaced values between the interval is scpecified."
   ]
  },
  {
   "cell_type": "markdown",
   "metadata": {},
   "source": [
    "| Parameter | Description |\n",
    "|------|------|\n",
    "| __start__ | The starting value of sequence |\n",
    "| __stop__ | The end value of the sequence, included in the sequence if endpoint set to *true* |\n",
    "| __num__ | The number of evenly spaced samples to be generated. Default is 50 |\n",
    "| __endpoint__ | True by default, hence the stop value is included in the sequence. If false, it's not included | \n",
    "| __retstep__ | If true, returns samples and step between the consecutive numbers | \n",
    "| __dtype__ | Data type |"
   ]
  },
  {
   "cell_type": "code",
   "execution_count": 25,
   "metadata": {},
   "outputs": [
    {
     "data": {
      "text/plain": [
       "array([ 10. ,  12.5,  15. ,  17.5,  20. ])"
      ]
     },
     "execution_count": 25,
     "metadata": {},
     "output_type": "execute_result"
    }
   ],
   "source": [
    "np.linspace(10, 20, 5)"
   ]
  },
  {
   "cell_type": "code",
   "execution_count": 26,
   "metadata": {},
   "outputs": [
    {
     "data": {
      "text/plain": [
       "array([ 10.,  12.,  14.,  16.,  18.])"
      ]
     },
     "execution_count": 26,
     "metadata": {},
     "output_type": "execute_result"
    }
   ],
   "source": [
    "np.linspace(10, 20, 5, endpoint=False)"
   ]
  },
  {
   "cell_type": "code",
   "execution_count": 27,
   "metadata": {},
   "outputs": [
    {
     "data": {
      "text/plain": [
       "(array([ 1.  ,  1.25,  1.5 ,  1.75,  2.  ]), 0.25)"
      ]
     },
     "execution_count": 27,
     "metadata": {},
     "output_type": "execute_result"
    }
   ],
   "source": [
    "np.linspace(1, 2, 5, retstep=True)"
   ]
  },
  {
   "cell_type": "markdown",
   "metadata": {},
   "source": [
    "### numpy.logspace\n",
    "\n",
    "This function returns an ndarray object that contains the numbers that are evenly spaced on a log scale. Start and stop endpoints of the scale are indices of the base, usually 10. "
   ]
  },
  {
   "cell_type": "markdown",
   "metadata": {},
   "source": [
    "| Parameter | Description | \n",
    "|------|------|\n",
    "| __start__ | The starting point of the sequence is $$base^{start}$$ |\n",
    "| __stop__ | The final value of sequence is $$base^{stop}$$ |\n",
    "| __num__ | The number of values between the range. Default is 50 |\n",
    "| __endpoint__ | If true, stop is the last value in the range |\n",
    "| __base__ | Base of log space, default is 10 |\n",
    "| __dtype__ | Data type |"
   ]
  },
  {
   "cell_type": "code",
   "execution_count": 28,
   "metadata": {},
   "outputs": [
    {
     "data": {
      "text/plain": [
       "array([  10.        ,   12.91549665,   16.68100537,   21.5443469 ,\n",
       "         27.82559402,   35.93813664,   46.41588834,   59.94842503,\n",
       "         77.42636827,  100.        ])"
      ]
     },
     "execution_count": 28,
     "metadata": {},
     "output_type": "execute_result"
    }
   ],
   "source": [
    "np.logspace(1.0, 2.0, num=10)"
   ]
  },
  {
   "cell_type": "code",
   "execution_count": 29,
   "metadata": {},
   "outputs": [
    {
     "data": {
      "text/plain": [
       "array([    2.,     4.,     8.,    16.,    32.,    64.,   128.,   256.,\n",
       "         512.,  1024.])"
      ]
     },
     "execution_count": 29,
     "metadata": {},
     "output_type": "execute_result"
    }
   ],
   "source": [
    "np.logspace(1, 10, num=10, base=2)"
   ]
  },
  {
   "cell_type": "markdown",
   "metadata": {},
   "source": [
    "## Indexing & Slicing\n",
    "\n",
    "As mentioned earlier, items in ndarray object follows zero-based index. Three types of indexing methods are available − __field access__, __basic slicing__ and __advanced indexing__.\n",
    "\n",
    "Basic slicing is an extension of Python's basic concept of slicing to n dimensions. A Python slice object is constructed by giving __start__, __stop__, and __step__ parameters to the built-in __slice__ function. This slice object is passed to the array to extract a part of array."
   ]
  },
  {
   "cell_type": "code",
   "execution_count": 30,
   "metadata": {},
   "outputs": [
    {
     "name": "stdout",
     "output_type": "stream",
     "text": [
      "[0 1 2 3 4 5 6 7 8 9]\n",
      "[2 4 6]\n"
     ]
    }
   ],
   "source": [
    "a = np.arange(10)\n",
    "s = slice(2, 7, 2)\n",
    "print(a)\n",
    "print(a[s])"
   ]
  },
  {
   "cell_type": "code",
   "execution_count": 31,
   "metadata": {},
   "outputs": [
    {
     "name": "stdout",
     "output_type": "stream",
     "text": [
      "[2 4 6]\n"
     ]
    }
   ],
   "source": [
    "b = a[2:7:2]\n",
    "print(b)"
   ]
  },
  {
   "cell_type": "code",
   "execution_count": 32,
   "metadata": {
    "collapsed": true
   },
   "outputs": [],
   "source": [
    "# An array to begin\n",
    "a = np.array([\n",
    "    [1, 2, 3],\n",
    "    [3, 4, 5],\n",
    "    [4, 5, 6]])"
   ]
  },
  {
   "cell_type": "code",
   "execution_count": 33,
   "metadata": {},
   "outputs": [
    {
     "name": "stdout",
     "output_type": "stream",
     "text": [
      "[2 4 5]\n"
     ]
    }
   ],
   "source": [
    "print(a[..., 1])"
   ]
  },
  {
   "cell_type": "code",
   "execution_count": 34,
   "metadata": {},
   "outputs": [
    {
     "name": "stdout",
     "output_type": "stream",
     "text": [
      "[3 4 5]\n"
     ]
    }
   ],
   "source": [
    "print(a[1, ...])"
   ]
  },
  {
   "cell_type": "code",
   "execution_count": 35,
   "metadata": {},
   "outputs": [
    {
     "name": "stdout",
     "output_type": "stream",
     "text": [
      "[[2 3]\n",
      " [4 5]\n",
      " [5 6]]\n"
     ]
    }
   ],
   "source": [
    "print(a[..., 1:])"
   ]
  },
  {
   "cell_type": "markdown",
   "metadata": {},
   "source": [
    "## Advanced Indexing\n",
    "\n",
    "It is possible to make a selection from ndarray that is a non-tuple sequence, ndarray object of integer or Boolean data type, or a tuple with at least one item being a sequence object. Advanced indexing always returns a copy of the data. As against this, the slicing only presents a view.\n",
    "\n",
    "There are two types of advanced indexing − Integer and Boolean."
   ]
  },
  {
   "cell_type": "markdown",
   "metadata": {},
   "source": [
    "### Integer Indexing\n",
    "\n",
    "This mechanism helps in selecting any arbitrary item in an array based on its Ndimensional index. Each integer array represents the number of indexes into that dimension. When the index consists of as many integer arrays as the dimensions of the target ndarray, it becomes straightforward."
   ]
  },
  {
   "cell_type": "code",
   "execution_count": 36,
   "metadata": {},
   "outputs": [
    {
     "name": "stdout",
     "output_type": "stream",
     "text": [
      "[1 4 5]\n"
     ]
    }
   ],
   "source": [
    "x = np.array([[1, 3], [3, 4], [5, 6]])\n",
    "y = x[[0, 1, 2], [0, 1, 0]]\n",
    "print(y)"
   ]
  },
  {
   "cell_type": "code",
   "execution_count": 37,
   "metadata": {},
   "outputs": [
    {
     "name": "stdout",
     "output_type": "stream",
     "text": [
      "[[ 0  2]\n",
      " [ 9 11]]\n"
     ]
    }
   ],
   "source": [
    "x = np.array([[0,  1,  2], [3,  4,  5], [6,  7,  8], [9, 10, 11]])\n",
    "\n",
    "rows = np.array([[0, 0], [3, 3]])\n",
    "columns = np.array([[0, 2], [0, 2]])\n",
    "\n",
    "y = x[rows, columns]\n",
    "print(y)"
   ]
  },
  {
   "cell_type": "markdown",
   "metadata": {},
   "source": [
    "### Boolean Array Indexing\n",
    "\n",
    "This type of advanced indexing is used when the resultant object is meant to be the result of Boolean operations, such as comparison operators."
   ]
  },
  {
   "cell_type": "code",
   "execution_count": 38,
   "metadata": {},
   "outputs": [
    {
     "data": {
      "text/plain": [
       "array([ 6,  7,  8,  9, 10, 11])"
      ]
     },
     "execution_count": 38,
     "metadata": {},
     "output_type": "execute_result"
    }
   ],
   "source": [
    "x[x > 5]"
   ]
  },
  {
   "cell_type": "code",
   "execution_count": 39,
   "metadata": {},
   "outputs": [
    {
     "name": "stdout",
     "output_type": "stream",
     "text": [
      "[ 1.  2.  3.  4.  5.]\n"
     ]
    }
   ],
   "source": [
    "a = np.array([np.nan, 1, 2, np.nan, 3, 4, 5]) \n",
    "print(a[~np.isnan(a)])"
   ]
  },
  {
   "cell_type": "code",
   "execution_count": 40,
   "metadata": {},
   "outputs": [
    {
     "name": "stdout",
     "output_type": "stream",
     "text": [
      "[ 2.0+6.j  3.5+5.j]\n"
     ]
    }
   ],
   "source": [
    "a = np.array([1, 2+6j, 5, 3.5+5j]) \n",
    "print(a[np.iscomplex(a)])"
   ]
  },
  {
   "cell_type": "markdown",
   "metadata": {},
   "source": [
    "## Broadcasting\n",
    "\n",
    "The term broadcasting refers to the ability of NumPy to treat arrays of different shapes during arithmetic operations. Arithmetic operations on arrays are usually done on corresponding elements. If two arrays are of exactly the same shape, then these operations are smoothly performed."
   ]
  },
  {
   "cell_type": "code",
   "execution_count": 41,
   "metadata": {},
   "outputs": [
    {
     "name": "stdout",
     "output_type": "stream",
     "text": [
      "[ 10  40  90 160 250]\n"
     ]
    }
   ],
   "source": [
    "a = np.array([1, 2, 3, 4, 5])\n",
    "b = np.array([10, 20, 30, 40, 50])\n",
    "c = a * b\n",
    "print(c)"
   ]
  },
  {
   "cell_type": "markdown",
   "metadata": {},
   "source": [
    "If the dimensions of two arrays are dissimilar, element-to-element operations are not possible. However, operations on arrays of non-similar shapes is still possible in NumPy, because of the __broadcasting__ capability. The smaller array is __broadcast__ to the size of the larger array so that they have compatible shapes."
   ]
  },
  {
   "cell_type": "markdown",
   "metadata": {},
   "source": [
    "__Broadcasting__ is possible if the following rules are satisfied –\n",
    "\n",
    "- Array with smaller __ndim__ than the other is prepended with '1' in its shape.\n",
    "\n",
    "- Size in each dimension of the output shape is maximum of the input sizes in that dimension.\n",
    "\n",
    "- An input can be used in calculation, if its size in a particular dimension matches the output size or its value is exactly 1.\n",
    "\n",
    "- If an input has a dimension size of 1, the first data entry in that dimension is used for all calculations along that dimension.\n",
    "\n",
    "A set of arrays is said to be __broadcastable__ if the above rules produce a valid result and one of the following is true −\n",
    "\n",
    "- Arrays have exactly the same shape.\n",
    "\n",
    "- Arrays have the same number of dimensions and the length of each dimension is either a common length or 1.\n",
    "\n",
    "- Array having too few dimensions can have its shape prepended with a dimension of length 1, so that the above stated property is true.\n",
    "\n"
   ]
  },
  {
   "cell_type": "code",
   "execution_count": 42,
   "metadata": {},
   "outputs": [
    {
     "name": "stdout",
     "output_type": "stream",
     "text": [
      "[[ 1  2  3]\n",
      " [11 12 13]\n",
      " [21 22 23]\n",
      " [31 32 33]]\n"
     ]
    }
   ],
   "source": [
    "a = np.array([[0, 0, 0], [10, 10, 10], [20, 20, 20], [30, 30, 30]])\n",
    "b = np.array([1, 2, 3])\n",
    "\n",
    "print(a + b)"
   ]
  },
  {
   "cell_type": "markdown",
   "metadata": {},
   "source": [
    "<img src='https://www.tutorialspoint.com/numpy/images/array.jpg'>\n"
   ]
  },
  {
   "cell_type": "markdown",
   "metadata": {},
   "source": [
    "## Iterating Over Array\n",
    "\n",
    "NumPy package contains an iterator object numpy.nditer. It is an efficient multidimensional iterator object using which it is possible to iterate over an array. Each element of an array is visited using Python’s standard Iterator interface."
   ]
  },
  {
   "cell_type": "code",
   "execution_count": 43,
   "metadata": {},
   "outputs": [
    {
     "name": "stdout",
     "output_type": "stream",
     "text": [
      "Original array is: \n",
      "[[ 0  5 10 15]\n",
      " [20 25 30 35]\n",
      " [40 45 50 55]]\n",
      "\n",
      "Modified array is:\n",
      "0\n",
      "5\n",
      "10\n",
      "15\n",
      "20\n",
      "25\n",
      "30\n",
      "35\n",
      "40\n",
      "45\n",
      "50\n",
      "55\n"
     ]
    }
   ],
   "source": [
    "a = np.arange(0, 60, 5)\n",
    "a = a.reshape(3, 4)\n",
    "\n",
    "print('Original array is: \\n{}\\n'.format(a))\n",
    "\n",
    "print('Modified array is:')\n",
    "for x in np.nditer(a):\n",
    "    print(x)"
   ]
  },
  {
   "cell_type": "markdown",
   "metadata": {},
   "source": [
    "The order of iteration is chosen to match the memory layout of an array, without considering a particular ordering. This can be seen by iterating over the transpose of the above array."
   ]
  },
  {
   "cell_type": "code",
   "execution_count": 44,
   "metadata": {},
   "outputs": [
    {
     "name": "stdout",
     "output_type": "stream",
     "text": [
      "Transpose of the original array is: \n",
      "[[ 0 20 40]\n",
      " [ 5 25 45]\n",
      " [10 30 50]\n",
      " [15 35 55]]\n",
      "\n",
      "Modified array is:\n",
      "0\n",
      "5\n",
      "10\n",
      "15\n",
      "20\n",
      "25\n",
      "30\n",
      "35\n",
      "40\n",
      "45\n",
      "50\n",
      "55\n"
     ]
    }
   ],
   "source": [
    "b = a.T\n",
    "print('Transpose of the original array is: \\n{}\\n'.format(b))\n",
    "\n",
    "print('Modified array is:')\n",
    "for x in np.nditer(b):\n",
    "    print(x)"
   ]
  },
  {
   "cell_type": "markdown",
   "metadata": {},
   "source": [
    "### Iteration Order \n",
    "\n",
    "If the same elements are stored using F-style order, the iterator chooses the more efficient way of iterating over an array."
   ]
  },
  {
   "cell_type": "code",
   "execution_count": 45,
   "metadata": {},
   "outputs": [
    {
     "name": "stdout",
     "output_type": "stream",
     "text": [
      "Sorted in C-style order:\n",
      "0\n",
      "20\n",
      "40\n",
      "5\n",
      "25\n",
      "45\n",
      "10\n",
      "30\n",
      "50\n",
      "15\n",
      "35\n",
      "55\n"
     ]
    }
   ],
   "source": [
    "print('Sorted in C-style order:')\n",
    "for x in np.nditer(b.copy(order='C')):\n",
    "    print(x)"
   ]
  },
  {
   "cell_type": "code",
   "execution_count": 46,
   "metadata": {},
   "outputs": [
    {
     "name": "stdout",
     "output_type": "stream",
     "text": [
      "Also sorted in C-style order:\n",
      "0\n",
      "20\n",
      "40\n",
      "5\n",
      "25\n",
      "45\n",
      "10\n",
      "30\n",
      "50\n",
      "15\n",
      "35\n",
      "55\n"
     ]
    }
   ],
   "source": [
    "print('Also sorted in C-style order:')\n",
    "for x in np.nditer(b, order='C'):\n",
    "    print(x)"
   ]
  },
  {
   "cell_type": "markdown",
   "metadata": {},
   "source": [
    "### Modifying Array Values\n",
    "\n",
    "The nditer object has another optional parameter called __op_flags__. Its default values is read-only, but can be set to read-write or write-only mode. This will enable modifying array elements using this iterator."
   ]
  },
  {
   "cell_type": "code",
   "execution_count": 47,
   "metadata": {},
   "outputs": [
    {
     "name": "stdout",
     "output_type": "stream",
     "text": [
      "Original array is: \n",
      "[[ 0  5 10 15]\n",
      " [20 25 30 35]\n",
      " [40 45 50 55]]\n",
      "\n",
      "Modified array is: \n",
      "[[  0  10  20  30]\n",
      " [ 40  50  60  70]\n",
      " [ 80  90 100 110]]\n"
     ]
    }
   ],
   "source": [
    "print('Original array is: \\n{}\\n'.format(a))\n",
    "for x in np.nditer(a, op_flags=['readwrite']):\n",
    "    x[...] = 2 * x\n",
    "\n",
    "print('Modified array is: \\n{}'.format(a))"
   ]
  },
  {
   "cell_type": "markdown",
   "metadata": {},
   "source": [
    "#### external_loop\n",
    "\n",
    "Causes values given to be one-dimensional arrays with multiple values instead of zero-dimensional array."
   ]
  },
  {
   "cell_type": "code",
   "execution_count": 48,
   "metadata": {},
   "outputs": [
    {
     "name": "stdout",
     "output_type": "stream",
     "text": [
      "[ 0 40 80]\n",
      "[10 50 90]\n",
      "[ 20  60 100]\n",
      "[ 30  70 110]\n"
     ]
    }
   ],
   "source": [
    "for x in np.nditer(a, flags=['external_loop'], order='F'): \n",
    "    print(x)"
   ]
  },
  {
   "cell_type": "markdown",
   "metadata": {},
   "source": [
    "## Array Manipulation\n",
    "\n",
    "### Changing Shape\n",
    "\n",
    "| Shape | Description |\n",
    "|------|------|\n",
    "| __reshape__ | Gives a new shape to an array without changing its data |\n",
    "| __flat__ | A 1-D iterator over the array |\n",
    "| __flatten__ | Returns a copy of the array collapsed into one dimension |\n",
    "| __ravel__ | Returns a contiguous flattened array |\n",
    "\n",
    "### Transpose Operations\n",
    "\n",
    "| Operation | Description | \n",
    "|------|------|\n",
    "| __transpose__ | Permutes the dimensions of an array |\n",
    "| __ndarray.T__ | Same as self.transpose() |\n",
    "| __rollaxis__ | Rolls the specified axis backwards | \n",
    "| __swapaxes__ | Interchanges the two axes of an array |\n",
    "\n",
    "### Changing Dimensions \n",
    "| Dimension | Description |\n",
    "|------|------|\n",
    "| __broadcast__ | Produces an object that mimics broadcasting |\n",
    "| __broadcast\\_to__ | Broadcasts an array to a new shape |\n",
    "| __axpand\\_dims__ | Expands the shape of an array |\n",
    "| __squeeze__ | Removes single-dimensional entries from the shape of an array |\n",
    "\n",
    "### Joining Arrays \n",
    "\n",
    "| Array | Description |\n",
    "|------|------|\n",
    "| __concatenate__ | Joins a sequence of arrays along existing axis |\n",
    "| __stack__ | Joins a sequence of arrays along a new axis |\n",
    "| __hstack__ | Stacks arrays in sequence horizontally |\n",
    "| __vstack__ | Stacks arrays in sequence vertically |\n",
    "\n",
    "### Splitting Arrays \n",
    "\n",
    "| Array | Description |\n",
    "|------|------|\n",
    "| __split__ | Splits an array into multiple sub-arrays |\n",
    "| __hsplit__ | Splits an array into multiple sub-arrays horizontally |\n",
    "| __vsplit__ | Splits an array into multiple sub-arrays vertically | \n",
    "\n",
    "### Adding / Removing Elements \n",
    "\n",
    "| Element | Description |\n",
    "|------|------|\n",
    "| __resize__ | Returns a new array with the specified shape | \n",
    "| __append__ | Appends the values to the en of an array | \n",
    "| __insert__ | Inserts the values along the given axis before the given indices | \n",
    "| __delete__ | Returns a new array with sub-arrays along an axis deleted | \n",
    "| __unique__ | Finds the unique elements of an array |"
   ]
  },
  {
   "cell_type": "markdown",
   "metadata": {
    "collapsed": true
   },
   "source": [
    "## Binary Operators\n",
    "\n",
    "| Operation | Description |\n",
    "|------|------|\n",
    "| __bitwise\\_and__ | Computes bitwise AND operation of array elements | \n",
    "| __bitwise\\_or__ | Computes bitwise OR operation of array elements |\n",
    "| __invert__ | Computes bitwise NOT |\n",
    "| __left\\_shift__ | Shifts bits of a binary representation to the left |\n",
    "| __right\\_shift__ | Shifts bits of binary representation to the right |"
   ]
  },
  {
   "cell_type": "markdown",
   "metadata": {},
   "source": [
    "## String Functions \n",
    "\n",
    "| Function | Description | \n",
    "|------|------|\n",
    "| __add()__ | Returns element-wise string concatenation for two arrays of str or Unicode |\n",
    "| __multiply()__ | Returns the string with multiple concatenation, element-wise |\n",
    "| __center()__ | Returns a copy of the given string with elements centered in a string of specified length | \n",
    "| __capitalize()__ | Returns a copy of the string with only the first character capitalized |\n",
    "| __title()__ | Returns the element-wise title cased version of the string or Unicode |\n",
    "| __lower()__ | Returns an array with elements converted to lowercase |\n",
    "| __upper()__ | Returns an array with the elements converted to uppercase | \n",
    "| __ split()__ | Returns a list of the words in the string, using separatordelimiter | \n",
    "| __splitlines()__ | Returns a list of the lines in the element, breaking at the line boundaries |\n",
    "| __strip()__ | Returns a copy with the leading and trailing characters removed |\n",
    "| __join()__ | Returns a string which is the concatenation of the strings in the sequence |\n",
    "| __replace()__ | Returns a copy of the string with all occurrences of substring replaced by the new string | \n",
    "| __decode()__ | Calls str.decode element-wise |\n",
    "| __encode()__ | Calls str.encode element-wise |\n",
    "\n",
    "These functions are defined in character array class (numpy.char). the above functions in numpy.char class are useful in performing vectorized string operations."
   ]
  },
  {
   "cell_type": "markdown",
   "metadata": {},
   "source": [
    "## Mathematical Functions\n",
    "\n",
    "### Trigonometric Functions\n",
    "\n",
    "NumPy has standard trigonometric functions which return trigonometric ratios for a given angle in radians."
   ]
  },
  {
   "cell_type": "code",
   "execution_count": 49,
   "metadata": {
    "scrolled": true
   },
   "outputs": [
    {
     "name": "stdout",
     "output_type": "stream",
     "text": [
      "Sine of different angles: \n",
      "[ 0.          0.5         0.70710678  0.8660254   1.        ]\n",
      "\n",
      "Cosine of different angles: \n",
      "[  1.00000000e+00   8.66025404e-01   7.07106781e-01   5.00000000e-01\n",
      "   6.12323400e-17]\n",
      "\n",
      "Tangent of different angles: \n",
      "[  0.00000000e+00   5.77350269e-01   1.00000000e+00   1.73205081e+00\n",
      "   1.63312394e+16]\n",
      "\n"
     ]
    }
   ],
   "source": [
    "a = np.array([0, 30, 45, 60, 90])\n",
    "\n",
    "print('Sine of different angles: \\n{}\\n'.format(np.sin(a*np.pi/180)))\n",
    "print('Cosine of different angles: \\n{}\\n'.format(np.cos(a*np.pi/180)))\n",
    "print('Tangent of different angles: \\n{}\\n'.format(np.tan(a*np.pi/180)))"
   ]
  },
  {
   "cell_type": "markdown",
   "metadata": {},
   "source": [
    "__arcsin__, __arcos__, __arctan__ functions return the trigonometric inverse of sin, cos, and tan of the given angle. The result of these functions can be verified by __numpy.degrees()__ function by converting radians to degrees."
   ]
  },
  {
   "cell_type": "markdown",
   "metadata": {},
   "source": [
    "### Functions for Roundind\n",
    "\n",
    "#### numpy.around()\n",
    "\n",
    "This is a function that returns the value rounded to the desired precision. The function takes the following parameters.\n",
    "\n",
    "| Parameter | Description | \n",
    "|------|------|\n",
    "| __a__ | Input data |\n",
    "| __decimals__ | The nuber of decimals to round to. Defaults is 0. If negative, the integer is rounded to position to the left of the decimal point |"
   ]
  },
  {
   "cell_type": "code",
   "execution_count": 50,
   "metadata": {},
   "outputs": [
    {
     "name": "stdout",
     "output_type": "stream",
     "text": [
      "[   1.    6.  123.    1.   26.]\n",
      "[   1.     5.6  123.     0.6   25.5]\n",
      "[   0.   10.  120.    0.   30.]\n"
     ]
    }
   ],
   "source": [
    "a = np.array([1.0, 5.55, 123, 0.567, 25.532])\n",
    "\n",
    "print(np.around(a))\n",
    "print(np.around(a, decimals=1))\n",
    "print(np.around(a, decimals=-1))"
   ]
  },
  {
   "cell_type": "markdown",
   "metadata": {},
   "source": [
    "#### numpy.floor()\n",
    "\n",
    "This function returns the largest integer not greater than the input parameter. The floor of the scalar x is the largest integer i, such that i <= x. Note that in Python, flooring always is rounded away from 0."
   ]
  },
  {
   "cell_type": "code",
   "execution_count": 51,
   "metadata": {},
   "outputs": [
    {
     "data": {
      "text/plain": [
       "array([ -2.,   1.,  -1.,   0.,  10.])"
      ]
     },
     "execution_count": 51,
     "metadata": {},
     "output_type": "execute_result"
    }
   ],
   "source": [
    "a = np.array([-1.7, 1.5, -0.2, 0.6, 10])\n",
    "\n",
    "np.floor(a)"
   ]
  },
  {
   "cell_type": "markdown",
   "metadata": {},
   "source": [
    "#### numpy.ceil()\n",
    "\n",
    "The ceil() function returns the ceiling of an input value, i.e. the ceil of the scalar x is the smallest integer i, such that i >= x."
   ]
  },
  {
   "cell_type": "code",
   "execution_count": 52,
   "metadata": {},
   "outputs": [
    {
     "data": {
      "text/plain": [
       "array([ -1.,   2.,  -0.,   1.,  10.])"
      ]
     },
     "execution_count": 52,
     "metadata": {},
     "output_type": "execute_result"
    }
   ],
   "source": [
    "np.ceil(a)"
   ]
  },
  {
   "cell_type": "markdown",
   "metadata": {},
   "source": [
    "## Arithmetic Operations\n",
    "\n",
    "Input arrays for perfoming arithmetic operations such as add(), subtract(), multiply(), and divide() mush be either of the same shape or should conform to array broadcasting rules"
   ]
  },
  {
   "cell_type": "code",
   "execution_count": 53,
   "metadata": {},
   "outputs": [
    {
     "name": "stdout",
     "output_type": "stream",
     "text": [
      "First array: \n",
      "[[ 0.  1.  2.]\n",
      " [ 3.  4.  5.]\n",
      " [ 6.  7.  8.]]\n",
      "\n",
      "Second array: \n",
      "[10 10 10]\n",
      "\n"
     ]
    }
   ],
   "source": [
    "a = np.arange(9, dtype=np.float_).reshape(3, 3)\n",
    "print('First array: \\n{}\\n'.format(a))\n",
    "\n",
    "b = np.array([10, 10, 10])\n",
    "print('Second array: \\n{}\\n'.format(b))"
   ]
  },
  {
   "cell_type": "code",
   "execution_count": 54,
   "metadata": {},
   "outputs": [
    {
     "name": "stdout",
     "output_type": "stream",
     "text": [
      "Add the two arrays:\n",
      "[[ 10.  11.  12.]\n",
      " [ 13.  14.  15.]\n",
      " [ 16.  17.  18.]]\n",
      "\n",
      " Subtruct the two arrays:\n",
      "[[-10.  -9.  -8.]\n",
      " [ -7.  -6.  -5.]\n",
      " [ -4.  -3.  -2.]]\n",
      "\n",
      " Multiply the two arrays:\n",
      "[[  0.  10.  20.]\n",
      " [ 30.  40.  50.]\n",
      " [ 60.  70.  80.]]\n",
      "\n",
      " Divide the two arrays:\n",
      "[[ 0.   0.1  0.2]\n",
      " [ 0.3  0.4  0.5]\n",
      " [ 0.6  0.7  0.8]]\n"
     ]
    }
   ],
   "source": [
    "print('Add the two arrays:')\n",
    "print(np.add(a, b))\n",
    "\n",
    "print('\\n Subtruct the two arrays:')\n",
    "print(np.subtract(a, b))\n",
    "\n",
    "print('\\n Multiply the two arrays:')\n",
    "print(np.multiply(a, b))\n",
    "\n",
    "print('\\n Divide the two arrays:')\n",
    "print(np.divide(a, b))"
   ]
  },
  {
   "cell_type": "markdown",
   "metadata": {},
   "source": [
    "#### numpy.reciprocal()\n",
    "\n",
    "This function returns the reciprocal of argument, element-wise. For elements with absolute values larger than 1, the result is always 0 because of the way in which Python handles integer division. For integer 0, an averflow warning is issued. "
   ]
  },
  {
   "cell_type": "code",
   "execution_count": 55,
   "metadata": {},
   "outputs": [
    {
     "name": "stdout",
     "output_type": "stream",
     "text": [
      "[ 4.         0.7518797  1.               inf  0.01     ]\n"
     ]
    },
    {
     "name": "stderr",
     "output_type": "stream",
     "text": [
      "/anaconda/lib/python3.6/site-packages/ipykernel_launcher.py:3: RuntimeWarning: divide by zero encountered in reciprocal\n",
      "  This is separate from the ipykernel package so we can avoid doing imports until\n"
     ]
    }
   ],
   "source": [
    "a = np.array([0.25, 1.33, 1, 0, 100])\n",
    "\n",
    "print(np.reciprocal(a))"
   ]
  },
  {
   "cell_type": "code",
   "execution_count": 56,
   "metadata": {},
   "outputs": [
    {
     "name": "stdout",
     "output_type": "stream",
     "text": [
      "[0]\n"
     ]
    }
   ],
   "source": [
    "b = np.array([100], dtype=int)\n",
    "\n",
    "print(np.reciprocal(b))"
   ]
  },
  {
   "cell_type": "markdown",
   "metadata": {},
   "source": [
    "#### numpy.power()\n",
    "\n",
    "This function treats elements in the first input array as base returns it raised to the power of the corresponding element in the second input array."
   ]
  },
  {
   "cell_type": "code",
   "execution_count": 57,
   "metadata": {},
   "outputs": [
    {
     "name": "stdout",
     "output_type": "stream",
     "text": [
      "[    100   10000 1000000]\n"
     ]
    }
   ],
   "source": [
    "a = np.array([10, 100, 1000])\n",
    "\n",
    "print(np.power(a, 2))"
   ]
  },
  {
   "cell_type": "code",
   "execution_count": 58,
   "metadata": {},
   "outputs": [
    {
     "name": "stdout",
     "output_type": "stream",
     "text": [
      "[        10      10000 1000000000]\n"
     ]
    }
   ],
   "source": [
    "b = np.arange(1, 4)\n",
    "\n",
    "print(np.power(a, b))"
   ]
  },
  {
   "cell_type": "markdown",
   "metadata": {},
   "source": [
    "#### numpy.mod()\n",
    "\n",
    "This function returns the remainder of division of the corresponding elements in the input array. The function numpy.remainder() also produces the same result."
   ]
  },
  {
   "cell_type": "code",
   "execution_count": 59,
   "metadata": {},
   "outputs": [
    {
     "name": "stdout",
     "output_type": "stream",
     "text": [
      "Applying mod() function:\n",
      "[1 0 2]\n",
      "\n",
      " Applying remainder() function:\n",
      "[1 0 2]\n"
     ]
    }
   ],
   "source": [
    "a = np.array([10, 20, 30])\n",
    "b = np.array([3, 5, 7])\n",
    "\n",
    "print('Applying mod() function:')\n",
    "print(np.mod(a,b))\n",
    "\n",
    "print('\\n Applying remainder() function:')\n",
    "print(np.remainder(a,b))\n"
   ]
  },
  {
   "cell_type": "markdown",
   "metadata": {},
   "source": [
    "The following functions are used to perform operations on array with complex numbers.\n",
    "- __numpy.real()__ – returns the real part of the complex data type argument.\n",
    "- __numpy.imag()__ – returns the imaginary part of the complex data type argument.\n",
    "- __numpy.conj()__ – returns the complex conjugate, which is obtained by changing the sign of the imaginary part.\n",
    "- __numpy.angle()__ – returns the angle of the complex argument. The function gas degree parameter. If true, the angle in the degree is returned, otherwise the angle in radians."
   ]
  },
  {
   "cell_type": "code",
   "execution_count": 60,
   "metadata": {},
   "outputs": [
    {
     "name": "stdout",
     "output_type": "stream",
     "text": [
      "Applying real() function:\n",
      "[ -0.   0.  11.   1.]\n",
      "\n",
      " Applying imag() function:\n",
      "[-5.6  0.2  0.   1. ]\n",
      "\n",
      " Applying conj() function:\n",
      "[ -0.+5.6j   0.-0.2j  11.-0.j    1.-1.j ]\n",
      "\n",
      " Applying angle() function:\n",
      "[-90.  90.   0.  45.]\n"
     ]
    }
   ],
   "source": [
    "a = np.array([-5.6j, 0.2j, 11., 1+1j])\n",
    "\n",
    "print('Applying real() function:')\n",
    "print(np.real(a))\n",
    "\n",
    "print('\\n Applying imag() function:')\n",
    "print(np.imag(a))\n",
    "\n",
    "print('\\n Applying conj() function:')\n",
    "print(np.conj(a))\n",
    "\n",
    "print('\\n Applying angle() function:')\n",
    "print(np.angle(a, deg=True))"
   ]
  },
  {
   "cell_type": "markdown",
   "metadata": {},
   "source": [
    "## Statistical Functions\n",
    "\n",
    "#### numpy.amin() and numpy.amax()\n",
    "\n",
    "These functions returns the minimum and the maximum from the elements in the given array along the specified axis. "
   ]
  },
  {
   "cell_type": "code",
   "execution_count": 61,
   "metadata": {},
   "outputs": [
    {
     "name": "stdout",
     "output_type": "stream",
     "text": [
      "[3 3 2]\n"
     ]
    }
   ],
   "source": [
    "a = np.array([[3, 7, 5], [8, 4, 3], [2, 4, 9]])\n",
    "\n",
    "print(np.amin(a, 1))"
   ]
  },
  {
   "cell_type": "code",
   "execution_count": 62,
   "metadata": {},
   "outputs": [
    {
     "name": "stdout",
     "output_type": "stream",
     "text": [
      "[2 4 3]\n"
     ]
    }
   ],
   "source": [
    "print(np.amin(a, 0))"
   ]
  },
  {
   "cell_type": "code",
   "execution_count": 63,
   "metadata": {},
   "outputs": [
    {
     "name": "stdout",
     "output_type": "stream",
     "text": [
      "9\n"
     ]
    }
   ],
   "source": [
    "print(np.amax(a))"
   ]
  },
  {
   "cell_type": "code",
   "execution_count": 64,
   "metadata": {},
   "outputs": [
    {
     "name": "stdout",
     "output_type": "stream",
     "text": [
      "[8 7 9]\n"
     ]
    }
   ],
   "source": [
    "print(np.amax(a, axis=0))"
   ]
  },
  {
   "cell_type": "markdown",
   "metadata": {},
   "source": [
    "#### numpy.ptp()\n",
    "\n",
    "This function returns the range (max-min) of values along an axis."
   ]
  },
  {
   "cell_type": "code",
   "execution_count": 65,
   "metadata": {},
   "outputs": [
    {
     "name": "stdout",
     "output_type": "stream",
     "text": [
      "Original array is: \n",
      "[[3 7 5]\n",
      " [8 4 3]\n",
      " [2 4 9]]\n",
      "\n",
      "7\n"
     ]
    }
   ],
   "source": [
    "print('Original array is: \\n{}\\n'.format(a))\n",
    "\n",
    "print(np.ptp(a))"
   ]
  },
  {
   "cell_type": "code",
   "execution_count": 66,
   "metadata": {},
   "outputs": [
    {
     "name": "stdout",
     "output_type": "stream",
     "text": [
      "[6 3 6]\n"
     ]
    }
   ],
   "source": [
    "print(np.ptp(a, axis=0))"
   ]
  },
  {
   "cell_type": "code",
   "execution_count": 67,
   "metadata": {},
   "outputs": [
    {
     "name": "stdout",
     "output_type": "stream",
     "text": [
      "[4 5 7]\n"
     ]
    }
   ],
   "source": [
    "print(np.ptp(a, axis=1))"
   ]
  },
  {
   "cell_type": "markdown",
   "metadata": {},
   "source": [
    "#### numpy.percentile()\n",
    "\n",
    "Percentile (or a centile) is a measure used in statistics indicating the value below which a given percentage of observations in a group of observations fall. The function numpy.percentile() takse the fhe following agruments.\n",
    "\n",
    "```numpy.percentile(a, q, axis)```"
   ]
  },
  {
   "cell_type": "markdown",
   "metadata": {},
   "source": [
    "Where,\n",
    "\n",
    "| Argument | Description |\n",
    "|------|-------|\n",
    "| __a__ | Input array |\n",
    "| __q__ | The percentile to compute must be between 0-100 | \n",
    "| __axis__ | The axis along which the percentile is to be calculated | "
   ]
  },
  {
   "cell_type": "code",
   "execution_count": 68,
   "metadata": {},
   "outputs": [
    {
     "data": {
      "text/plain": [
       "array([[30, 40, 70],\n",
       "       [80, 20, 10],\n",
       "       [50, 90, 60]])"
      ]
     },
     "execution_count": 68,
     "metadata": {},
     "output_type": "execute_result"
    }
   ],
   "source": [
    "a = np.array([[30, 40, 70], [80, 20, 10], [50, 90, 60]])\n",
    "a"
   ]
  },
  {
   "cell_type": "code",
   "execution_count": 69,
   "metadata": {},
   "outputs": [
    {
     "data": {
      "text/plain": [
       "50.0"
      ]
     },
     "execution_count": 69,
     "metadata": {},
     "output_type": "execute_result"
    }
   ],
   "source": [
    "np.percentile(a, 50)"
   ]
  },
  {
   "cell_type": "code",
   "execution_count": 70,
   "metadata": {},
   "outputs": [
    {
     "data": {
      "text/plain": [
       "array([ 50.,  40.,  60.])"
      ]
     },
     "execution_count": 70,
     "metadata": {},
     "output_type": "execute_result"
    }
   ],
   "source": [
    "np.percentile(a, 50, axis=0)"
   ]
  },
  {
   "cell_type": "code",
   "execution_count": 71,
   "metadata": {},
   "outputs": [
    {
     "data": {
      "text/plain": [
       "array([ 40.,  20.,  60.])"
      ]
     },
     "execution_count": 71,
     "metadata": {},
     "output_type": "execute_result"
    }
   ],
   "source": [
    "np.percentile(a, 50, axis=1)"
   ]
  },
  {
   "cell_type": "markdown",
   "metadata": {},
   "source": [
    "#### numpy.median()\n",
    "\n",
    "Median is defined as the value separating the higher half of a data sample from the lower half. The numpy.median() function is used as shown in the following program. "
   ]
  },
  {
   "cell_type": "code",
   "execution_count": 72,
   "metadata": {
    "collapsed": true
   },
   "outputs": [],
   "source": [
    "a = np.array([[30, 65, 70],[80, 95, 10],[50, 90, 60]]) "
   ]
  },
  {
   "cell_type": "code",
   "execution_count": 73,
   "metadata": {},
   "outputs": [
    {
     "data": {
      "text/plain": [
       "65.0"
      ]
     },
     "execution_count": 73,
     "metadata": {},
     "output_type": "execute_result"
    }
   ],
   "source": [
    "np.median(a)"
   ]
  },
  {
   "cell_type": "code",
   "execution_count": 74,
   "metadata": {},
   "outputs": [
    {
     "data": {
      "text/plain": [
       "array([ 50.,  90.,  60.])"
      ]
     },
     "execution_count": 74,
     "metadata": {},
     "output_type": "execute_result"
    }
   ],
   "source": [
    "np.median(a, axis=0)"
   ]
  },
  {
   "cell_type": "code",
   "execution_count": 75,
   "metadata": {},
   "outputs": [
    {
     "data": {
      "text/plain": [
       "array([ 65.,  80.,  60.])"
      ]
     },
     "execution_count": 75,
     "metadata": {},
     "output_type": "execute_result"
    }
   ],
   "source": [
    "np.median(a, axis=1)"
   ]
  },
  {
   "cell_type": "markdown",
   "metadata": {},
   "source": [
    "#### numpy.mean()\n",
    "\n",
    "Arithmetic mean is the sum of elements along an axis divided by number of elements. The numpy.mean() function returns the arithmetic mean of elements in the array. If the axis is mentioned, it is calculated along it."
   ]
  },
  {
   "cell_type": "code",
   "execution_count": 76,
   "metadata": {},
   "outputs": [
    {
     "data": {
      "text/plain": [
       "array([[30, 65, 70],\n",
       "       [80, 95, 10],\n",
       "       [50, 90, 60]])"
      ]
     },
     "execution_count": 76,
     "metadata": {},
     "output_type": "execute_result"
    }
   ],
   "source": [
    "a"
   ]
  },
  {
   "cell_type": "code",
   "execution_count": 77,
   "metadata": {},
   "outputs": [
    {
     "data": {
      "text/plain": [
       "61.111111111111114"
      ]
     },
     "execution_count": 77,
     "metadata": {},
     "output_type": "execute_result"
    }
   ],
   "source": [
    "np.mean(a)"
   ]
  },
  {
   "cell_type": "code",
   "execution_count": 78,
   "metadata": {},
   "outputs": [
    {
     "data": {
      "text/plain": [
       "array([ 53.33333333,  83.33333333,  46.66666667])"
      ]
     },
     "execution_count": 78,
     "metadata": {},
     "output_type": "execute_result"
    }
   ],
   "source": [
    "np.mean(a, axis=0)"
   ]
  },
  {
   "cell_type": "code",
   "execution_count": 79,
   "metadata": {},
   "outputs": [
    {
     "data": {
      "text/plain": [
       "array([ 55.        ,  61.66666667,  66.66666667])"
      ]
     },
     "execution_count": 79,
     "metadata": {},
     "output_type": "execute_result"
    }
   ],
   "source": [
    "np.mean(a, axis=1)"
   ]
  },
  {
   "cell_type": "markdown",
   "metadata": {},
   "source": [
    "#### numpy.average()\n",
    "\n",
    "Weighted average is an average resulting from the multiplication of each component by a factor reflecting its importance. The numpy.average() function computes the weighted average of elements in an array according to their respective weight given in another array. The function can have an axis parameter. If the axis is not specified, the array is flattened."
   ]
  },
  {
   "cell_type": "code",
   "execution_count": 80,
   "metadata": {},
   "outputs": [
    {
     "data": {
      "text/plain": [
       "2.5"
      ]
     },
     "execution_count": 80,
     "metadata": {},
     "output_type": "execute_result"
    }
   ],
   "source": [
    "a = np.array([1, 2, 3, 4])\n",
    "\n",
    "np.average(a)"
   ]
  },
  {
   "cell_type": "code",
   "execution_count": 81,
   "metadata": {},
   "outputs": [
    {
     "data": {
      "text/plain": [
       "2.0"
      ]
     },
     "execution_count": 81,
     "metadata": {},
     "output_type": "execute_result"
    }
   ],
   "source": [
    "wts = np.array([4, 3, 2, 1])\n",
    "\n",
    "np.average(a, weights=wts)"
   ]
  },
  {
   "cell_type": "markdown",
   "metadata": {},
   "source": [
    "### Standard Deviation\n",
    "\n",
    "Standard deviation is the square root of the average of squared deviations from mean. The formula for standard deviation is as follows –\n",
    "$$std = \\sqrt{mean(\\lvert x - x.mean() \\rvert }^2)$$"
   ]
  },
  {
   "cell_type": "code",
   "execution_count": 82,
   "metadata": {},
   "outputs": [
    {
     "data": {
      "text/plain": [
       "1.1180339887498949"
      ]
     },
     "execution_count": 82,
     "metadata": {},
     "output_type": "execute_result"
    }
   ],
   "source": [
    "np.std([1, 2, 3, 4])"
   ]
  },
  {
   "cell_type": "markdown",
   "metadata": {},
   "source": [
    "### Variance \n",
    "\n",
    "Variance if the average of squared deviations, i.e. mean(abs(x - x.mean())\\*\\*2). In other words, the standard deviation is the square root of variance."
   ]
  },
  {
   "cell_type": "code",
   "execution_count": 83,
   "metadata": {},
   "outputs": [
    {
     "data": {
      "text/plain": [
       "1.25"
      ]
     },
     "execution_count": 83,
     "metadata": {},
     "output_type": "execute_result"
    }
   ],
   "source": [
    "np.var([1, 2, 3, 4])"
   ]
  },
  {
   "cell_type": "markdown",
   "metadata": {},
   "source": [
    "## Sort, Search & Counting Functions\n",
    "\n",
    "Comparison of three sorting algorithms.\n",
    "\n",
    "| kind | speed | worst case | work space | stable |\n",
    "|------|------|------|------|------|\n",
    "| quicksort | 1 | O(n^2) | 0 | no |\n",
    "| mergesort | 2 | O(n\\*log(n)) | ~n/2 | yes |\n",
    "| heapsort | 3 | O(n\\*log(n)) | 0 | no |\n"
   ]
  },
  {
   "cell_type": "markdown",
   "metadata": {},
   "source": [
    "#### numpy.sort()\n",
    "\n",
    "The sort function returns a sorted copy of the input array. It has the following parameters –\n",
    "\n",
    "```numpy.sort(a, axis, kind, order)```\n",
    "\n",
    "| Parameter | Description |\n",
    "|------|------|\n",
    "| __a__ | Array to be sorted |\n",
    "| __axis__ | The axis along which the array is to be sorted. If none, the array is flattened, sorting on the last axis | \n",
    "| __kind__ | Default is quicksort | \n",
    "| __order__ | If the array contains fields, the order of fields to be sorted | \n"
   ]
  },
  {
   "cell_type": "code",
   "execution_count": 84,
   "metadata": {},
   "outputs": [
    {
     "name": "stdout",
     "output_type": "stream",
     "text": [
      "Original array is: \n",
      "[(b'raju', 21) (b'anil', 25) (b'ravi', 17) (b'amar', 27)]\n",
      "\n",
      "Sorted array is: \n",
      "[(b'amar', 27) (b'anil', 25) (b'raju', 21) (b'ravi', 17)]\n",
      "\n"
     ]
    }
   ],
   "source": [
    "dt = np.dtype([('name', 'S10'), ('age', int)])\n",
    "a = np.array([('raju', 21), ('anil', 25),('ravi', 17), ('amar', 27)], dtype=dt)\n",
    "\n",
    "print('Original array is: \\n{}\\n'.format(a))\n",
    "\n",
    "print('Sorted array is: \\n{}\\n'.format(np.sort(a, order='name')))"
   ]
  },
  {
   "cell_type": "markdown",
   "metadata": {},
   "source": [
    "#### numpy.argsort()\n",
    "\n",
    "The numpy.argsort() function performs an indirect sort on input array, along the given axis and using a specified kind of sort to return the array of indices of data. This indices array is used to construct the sorted array."
   ]
  },
  {
   "cell_type": "code",
   "execution_count": 85,
   "metadata": {},
   "outputs": [
    {
     "name": "stdout",
     "output_type": "stream",
     "text": [
      "[1 2 0]\n"
     ]
    }
   ],
   "source": [
    "x = np.array([3, 1, 2])\n",
    "\n",
    "y = np.argsort(x)\n",
    "print(y)"
   ]
  },
  {
   "cell_type": "code",
   "execution_count": 86,
   "metadata": {},
   "outputs": [
    {
     "data": {
      "text/plain": [
       "array([1, 2, 3])"
      ]
     },
     "execution_count": 86,
     "metadata": {},
     "output_type": "execute_result"
    }
   ],
   "source": [
    "x[y]"
   ]
  },
  {
   "cell_type": "markdown",
   "metadata": {},
   "source": [
    "#### numpy.lexsort()\n",
    "\n",
    "This function performs an indirect sort using a sequence of keys. The keys can be seen as a column in a spreadsheet. The function returns an array of indices, using which the sorted data can be obtained. Note, that the last key happens to be the primary key of sort."
   ]
  },
  {
   "cell_type": "code",
   "execution_count": 87,
   "metadata": {},
   "outputs": [
    {
     "name": "stdout",
     "output_type": "stream",
     "text": [
      "[3 1 0 2]\n"
     ]
    }
   ],
   "source": [
    "nm = ('raju', 'anil', 'ravi', 'amar') \n",
    "dv = ('f.y.', 's.y.', 's.y.', 'f.y.') \n",
    "\n",
    "ind = np.lexsort((dv, nm)) \n",
    "print(ind)"
   ]
  },
  {
   "cell_type": "code",
   "execution_count": 88,
   "metadata": {},
   "outputs": [
    {
     "name": "stdout",
     "output_type": "stream",
     "text": [
      "['amar, f.y.', 'anil, s.y.', 'raju, f.y.', 'ravi, s.y.']\n"
     ]
    }
   ],
   "source": [
    "print([nm[i] + ', ' + dv[i] for i in ind])"
   ]
  },
  {
   "cell_type": "markdown",
   "metadata": {},
   "source": [
    "NumPy module has a number of functions for searching inside an array. Functions for finding the maximum, the minimum as well as the elements satisfying a given condition are available.\n",
    "\n",
    "#### numpy.argmax() and numpy.argmin()\n",
    "\n",
    "These two functions return the indices of maximum and minimum elements respectively along the given axis."
   ]
  },
  {
   "cell_type": "code",
   "execution_count": 89,
   "metadata": {},
   "outputs": [
    {
     "data": {
      "text/plain": [
       "7"
      ]
     },
     "execution_count": 89,
     "metadata": {},
     "output_type": "execute_result"
    }
   ],
   "source": [
    "a = np.array([[30, 40, 70], [80, 20, 10], [50, 90, 60]])\n",
    "\n",
    "np.argmax(a)"
   ]
  },
  {
   "cell_type": "code",
   "execution_count": 90,
   "metadata": {},
   "outputs": [
    {
     "data": {
      "text/plain": [
       "array([2, 0, 1])"
      ]
     },
     "execution_count": 90,
     "metadata": {},
     "output_type": "execute_result"
    }
   ],
   "source": [
    "np.argmax(a, axis=1)"
   ]
  },
  {
   "cell_type": "markdown",
   "metadata": {},
   "source": [
    "#### numpy.nonzero()\n",
    "\n",
    "The numpy.nonzero() function returns the indices of non-zero elements in the input array."
   ]
  },
  {
   "cell_type": "code",
   "execution_count": 91,
   "metadata": {},
   "outputs": [
    {
     "data": {
      "text/plain": [
       "(array([0, 0, 1, 1, 2, 2]), array([0, 1, 1, 2, 0, 2]))"
      ]
     },
     "execution_count": 91,
     "metadata": {},
     "output_type": "execute_result"
    }
   ],
   "source": [
    "a = np.array([[30, 40, 0], [0, 20, 10], [50, 0, 60]])\n",
    "\n",
    "np.nonzero(a)"
   ]
  },
  {
   "cell_type": "markdown",
   "metadata": {},
   "source": [
    "#### numpy.where()\n",
    "\n",
    "The where() function returns the indices of elements in an input array where the given condition is satisfied."
   ]
  },
  {
   "cell_type": "code",
   "execution_count": 92,
   "metadata": {},
   "outputs": [
    {
     "name": "stdout",
     "output_type": "stream",
     "text": [
      "[[ 0.  1.  2.]\n",
      " [ 3.  4.  5.]\n",
      " [ 6.  7.  8.]]\n"
     ]
    }
   ],
   "source": [
    "x = np.arange(9.).reshape(3, 3)\n",
    "print(x)"
   ]
  },
  {
   "cell_type": "code",
   "execution_count": 93,
   "metadata": {},
   "outputs": [
    {
     "name": "stdout",
     "output_type": "stream",
     "text": [
      "(array([1, 1, 2, 2, 2]), array([1, 2, 0, 1, 2]))\n"
     ]
    }
   ],
   "source": [
    "y = np.where(x > 3)\n",
    "print(y)"
   ]
  },
  {
   "cell_type": "markdown",
   "metadata": {},
   "source": [
    "#### numpy.extract()\n",
    "\n",
    "The extract() function returns the elements satisfying any condition. "
   ]
  },
  {
   "cell_type": "code",
   "execution_count": 94,
   "metadata": {},
   "outputs": [
    {
     "name": "stdout",
     "output_type": "stream",
     "text": [
      "[[ True False  True]\n",
      " [False  True False]\n",
      " [ True False  True]]\n"
     ]
    }
   ],
   "source": [
    "condition = np.mod(x, 2) == 0\n",
    "print(condition)"
   ]
  },
  {
   "cell_type": "code",
   "execution_count": 95,
   "metadata": {},
   "outputs": [
    {
     "data": {
      "text/plain": [
       "array([ 0.,  2.,  4.,  6.,  8.])"
      ]
     },
     "execution_count": 95,
     "metadata": {},
     "output_type": "execute_result"
    }
   ],
   "source": [
    "np.extract(condition, x)"
   ]
  },
  {
   "cell_type": "markdown",
   "metadata": {},
   "source": [
    "## Byte Swapping\n",
    "\n",
    "We have seen that the data stored in the memory of a computer depends on which architecture the CPU uses. It may be little-endian (least significant is stored in the smallest address) or big-endian (most significant byte in the smallest address)."
   ]
  },
  {
   "cell_type": "markdown",
   "metadata": {},
   "source": [
    "#### numpy.ndarray.byteswap()\n",
    "\n",
    "The numpy.ndarray.byteswap() function toggles between the two representations: big-endian and little-endian."
   ]
  },
  {
   "cell_type": "code",
   "execution_count": 96,
   "metadata": {},
   "outputs": [
    {
     "name": "stdout",
     "output_type": "stream",
     "text": [
      "0x1\n",
      "0x100\n",
      "0x2233\n"
     ]
    }
   ],
   "source": [
    "a = np.array([1, 256, 8755], dtype=np.int16)\n",
    "\n",
    "for m in map(hex, a):\n",
    "    print(m)"
   ]
  },
  {
   "cell_type": "code",
   "execution_count": 97,
   "metadata": {},
   "outputs": [
    {
     "data": {
      "text/plain": [
       "array([  256,     1, 13090], dtype=int16)"
      ]
     },
     "execution_count": 97,
     "metadata": {},
     "output_type": "execute_result"
    }
   ],
   "source": [
    "a.byteswap(True)"
   ]
  },
  {
   "cell_type": "code",
   "execution_count": 98,
   "metadata": {},
   "outputs": [
    {
     "name": "stdout",
     "output_type": "stream",
     "text": [
      "0x100\n",
      "0x1\n",
      "0x3322\n"
     ]
    }
   ],
   "source": [
    "for m in map(hex, a):\n",
    "    print(m)"
   ]
  },
  {
   "cell_type": "markdown",
   "metadata": {},
   "source": [
    "## Copies & Views\n",
    "\n",
    "While executing the functions, some of them return a copy of the input array, while some return the view. When the contents are physically stored in another location, it is called Copy. If on the other hand, a different view of the same memory content is provided, we call it as View.\n",
    "\n",
    "### No Copy\n",
    "\n",
    "Simple assignments do not make the copy of array object. Instead, it uses the same id() of the original array to access it. The id() returns a universal identifier of Python object, similar to the pointer in C.\n",
    "\n",
    "Furthermore, any changes in either gets reflected in the other. For example, the changing shape of one will change the shape of the other too."
   ]
  },
  {
   "cell_type": "code",
   "execution_count": 99,
   "metadata": {},
   "outputs": [
    {
     "name": "stdout",
     "output_type": "stream",
     "text": [
      "[0 1 2 3 4 5]\n"
     ]
    }
   ],
   "source": [
    "a = np.arange(6)\n",
    "\n",
    "print(a)"
   ]
  },
  {
   "cell_type": "code",
   "execution_count": 100,
   "metadata": {},
   "outputs": [
    {
     "name": "stdout",
     "output_type": "stream",
     "text": [
      "Id of a: 4651117904\n",
      "Id of b: 4651117904\n"
     ]
    }
   ],
   "source": [
    "print('Id of a: {}'.format(id(a)))\n",
    "\n",
    "b = a\n",
    "\n",
    "print('Id of b: {}'.format(id(b)))"
   ]
  },
  {
   "cell_type": "code",
   "execution_count": 101,
   "metadata": {},
   "outputs": [
    {
     "name": "stdout",
     "output_type": "stream",
     "text": [
      "[[0 1]\n",
      " [2 3]\n",
      " [4 5]]\n"
     ]
    }
   ],
   "source": [
    "b.shape = 3, 2\n",
    "print(b)"
   ]
  },
  {
   "cell_type": "code",
   "execution_count": 102,
   "metadata": {},
   "outputs": [
    {
     "name": "stdout",
     "output_type": "stream",
     "text": [
      "[[0 1]\n",
      " [2 3]\n",
      " [4 5]]\n"
     ]
    }
   ],
   "source": [
    "print(a)"
   ]
  },
  {
   "cell_type": "markdown",
   "metadata": {},
   "source": [
    "### View or Shallow Copy\n",
    "\n",
    "NumPy has __ndarray.view()__ method which is a new array object that looks at the same data of the original array. Unlike the earlier case, change in dimensions of the new array doesn’t change dimensions of the original."
   ]
  },
  {
   "cell_type": "code",
   "execution_count": 103,
   "metadata": {},
   "outputs": [
    {
     "name": "stdout",
     "output_type": "stream",
     "text": [
      "[[0 1]\n",
      " [2 3]\n",
      " [4 5]]\n"
     ]
    }
   ],
   "source": [
    "a = np.arange(6).reshape(3, 2)\n",
    "print(a)"
   ]
  },
  {
   "cell_type": "code",
   "execution_count": 104,
   "metadata": {},
   "outputs": [
    {
     "name": "stdout",
     "output_type": "stream",
     "text": [
      "[[0 1]\n",
      " [2 3]\n",
      " [4 5]]\n"
     ]
    }
   ],
   "source": [
    "b = a.view()\n",
    "print(b)"
   ]
  },
  {
   "cell_type": "code",
   "execution_count": 105,
   "metadata": {},
   "outputs": [
    {
     "name": "stdout",
     "output_type": "stream",
     "text": [
      "Id of a: 4651116384\n",
      "Id of b: 4651118064\n"
     ]
    }
   ],
   "source": [
    "print('Id of a: {}'.format(id(a)))\n",
    "print('Id of b: {}'.format(id(b)))"
   ]
  },
  {
   "cell_type": "code",
   "execution_count": 106,
   "metadata": {},
   "outputs": [
    {
     "name": "stdout",
     "output_type": "stream",
     "text": [
      "[[0 1 2]\n",
      " [3 4 5]]\n"
     ]
    }
   ],
   "source": [
    "b.shape = 2, 3\n",
    "print(b)"
   ]
  },
  {
   "cell_type": "code",
   "execution_count": 107,
   "metadata": {},
   "outputs": [
    {
     "name": "stdout",
     "output_type": "stream",
     "text": [
      "[[0 1]\n",
      " [2 3]\n",
      " [4 5]]\n"
     ]
    }
   ],
   "source": [
    "print(a)"
   ]
  },
  {
   "cell_type": "markdown",
   "metadata": {},
   "source": [
    "### Deep Copy\n",
    "\n",
    "The ndarray.copy() function creates a deep copy. It is a complete copy of the array and its data, and doesn't share with the original array."
   ]
  },
  {
   "cell_type": "code",
   "execution_count": 108,
   "metadata": {},
   "outputs": [
    {
     "name": "stdout",
     "output_type": "stream",
     "text": [
      "[[10 10]\n",
      " [ 2  3]\n",
      " [ 4  5]]\n"
     ]
    }
   ],
   "source": [
    "a = np.array([[10, 10], [2, 3], [4, 5]])\n",
    "print(a)"
   ]
  },
  {
   "cell_type": "code",
   "execution_count": 109,
   "metadata": {},
   "outputs": [
    {
     "name": "stdout",
     "output_type": "stream",
     "text": [
      "[[10 10]\n",
      " [ 2  3]\n",
      " [ 4  5]]\n"
     ]
    }
   ],
   "source": [
    "b = a.copy()\n",
    "print(b)"
   ]
  },
  {
   "cell_type": "code",
   "execution_count": 110,
   "metadata": {},
   "outputs": [
    {
     "name": "stdout",
     "output_type": "stream",
     "text": [
      "False\n"
     ]
    }
   ],
   "source": [
    "print(b is a)"
   ]
  },
  {
   "cell_type": "code",
   "execution_count": 111,
   "metadata": {},
   "outputs": [
    {
     "name": "stdout",
     "output_type": "stream",
     "text": [
      "[[100  10]\n",
      " [  2   3]\n",
      " [  4   5]]\n"
     ]
    }
   ],
   "source": [
    "b[0, 0] = 100\n",
    "print(b)"
   ]
  },
  {
   "cell_type": "code",
   "execution_count": 112,
   "metadata": {},
   "outputs": [
    {
     "name": "stdout",
     "output_type": "stream",
     "text": [
      "[[10 10]\n",
      " [ 2  3]\n",
      " [ 4  5]]\n"
     ]
    }
   ],
   "source": [
    "print(a)"
   ]
  },
  {
   "cell_type": "markdown",
   "metadata": {},
   "source": [
    "## Matrix Library\n",
    "\n",
    "NumPy package contains a Matrix library __numpy.matlib__. This module has functions that return matrices instead of ndarray objects."
   ]
  },
  {
   "cell_type": "markdown",
   "metadata": {},
   "source": [
    "#### matlib.empty()\n",
    "\n",
    "The matlib.empty() function returns a new matrix without initializing the entries. The function takes the following parameters \n",
    "\n",
    "```numpy.matlib.empty(shape, dtype, order)```\n",
    "\n",
    "| Parameter | Description | \n",
    "|------|------|\n",
    "| __shape__ | int or tuple of int defining the shape of the new matrix |\n",
    "| __dtype__ | Optional. Data type of the output |\n",
    "| __order__ | C or F | \n"
   ]
  },
  {
   "cell_type": "code",
   "execution_count": 113,
   "metadata": {
    "collapsed": true
   },
   "outputs": [],
   "source": [
    "import numpy.matlib"
   ]
  },
  {
   "cell_type": "code",
   "execution_count": 114,
   "metadata": {},
   "outputs": [
    {
     "data": {
      "text/plain": [
       "matrix([[ 2.,  4.],\n",
       "        [ 6.,  8.]])"
      ]
     },
     "execution_count": 114,
     "metadata": {},
     "output_type": "execute_result"
    }
   ],
   "source": [
    "np.matlib.empty((2, 2))"
   ]
  },
  {
   "cell_type": "markdown",
   "metadata": {},
   "source": [
    "#### matlib.zeros()\n",
    "\n",
    "This function returns the matrix filled with zeros."
   ]
  },
  {
   "cell_type": "code",
   "execution_count": 115,
   "metadata": {},
   "outputs": [
    {
     "data": {
      "text/plain": [
       "matrix([[ 0.,  0.],\n",
       "        [ 0.,  0.]])"
      ]
     },
     "execution_count": 115,
     "metadata": {},
     "output_type": "execute_result"
    }
   ],
   "source": [
    "np.matlib.zeros((2, 2))"
   ]
  },
  {
   "cell_type": "markdown",
   "metadata": {},
   "source": [
    "#### matlib.ones()\n",
    "\n",
    "This function returns the matrix filled with 1s."
   ]
  },
  {
   "cell_type": "code",
   "execution_count": 116,
   "metadata": {},
   "outputs": [
    {
     "data": {
      "text/plain": [
       "matrix([[ 1.,  1.],\n",
       "        [ 1.,  1.]])"
      ]
     },
     "execution_count": 116,
     "metadata": {},
     "output_type": "execute_result"
    }
   ],
   "source": [
    "np.matlib.ones((2, 2)) "
   ]
  },
  {
   "cell_type": "markdown",
   "metadata": {},
   "source": [
    "#### matlib.eye()\n",
    "\n",
    "This function returns a matrix with 1 along the diagonal elements and the zeros elsewhere. The function takes the following parameters.\n",
    "\n",
    "```numpy.matlib.eye(n, M, k, dtype)```\n",
    "\n",
    "| Parameter | Description | \n",
    "|------|------|\n",
    "| __n__ | The number of rows in the resulting matrix |\n",
    "| __M__ | The number of columns, defaults to n |\n",
    "| __k__ | Index of diagonal |\n",
    "| __dtype__ | Data type |"
   ]
  },
  {
   "cell_type": "code",
   "execution_count": 117,
   "metadata": {},
   "outputs": [
    {
     "data": {
      "text/plain": [
       "matrix([[ 1.,  0.,  0.,  0.],\n",
       "        [ 0.,  1.,  0.,  0.],\n",
       "        [ 0.,  0.,  1.,  0.]])"
      ]
     },
     "execution_count": 117,
     "metadata": {},
     "output_type": "execute_result"
    }
   ],
   "source": [
    "np.matlib.eye(n=3, M=4, k=0, dtype=float)"
   ]
  },
  {
   "cell_type": "markdown",
   "metadata": {},
   "source": [
    "#### matlib.identity()\n",
    "The matlib.identity() function returns the Identity matrix of the given size. An identity matrix is a square matrix with all diagonal elements as 1."
   ]
  },
  {
   "cell_type": "code",
   "execution_count": 118,
   "metadata": {},
   "outputs": [
    {
     "data": {
      "text/plain": [
       "matrix([[ 1.,  0.,  0.,  0.,  0.],\n",
       "        [ 0.,  1.,  0.,  0.,  0.],\n",
       "        [ 0.,  0.,  1.,  0.,  0.],\n",
       "        [ 0.,  0.,  0.,  1.,  0.],\n",
       "        [ 0.,  0.,  0.,  0.,  1.]])"
      ]
     },
     "execution_count": 118,
     "metadata": {},
     "output_type": "execute_result"
    }
   ],
   "source": [
    "np.matlib.identity(5, dtype=float)"
   ]
  },
  {
   "cell_type": "markdown",
   "metadata": {},
   "source": [
    "#### matlib.rand()\n",
    "\n",
    "This function returns a matrix of the fiven size filled with random values."
   ]
  },
  {
   "cell_type": "code",
   "execution_count": 119,
   "metadata": {},
   "outputs": [
    {
     "data": {
      "text/plain": [
       "matrix([[ 0.99241022,  0.50350889,  0.02876727],\n",
       "        [ 0.37874876,  0.34180893,  0.69094155],\n",
       "        [ 0.07794075,  0.94618712,  0.35593381]])"
      ]
     },
     "execution_count": 119,
     "metadata": {},
     "output_type": "execute_result"
    }
   ],
   "source": [
    "np.matlib.rand(3, 3)"
   ]
  },
  {
   "cell_type": "markdown",
   "metadata": {},
   "source": [
    "__Note__ that a matrix is always two-dimensional, whereas ndarray is an n-dimensional array."
   ]
  },
  {
   "cell_type": "code",
   "execution_count": 120,
   "metadata": {
    "collapsed": true
   },
   "outputs": [],
   "source": [
    "i = np.matrix('1, 2; 3, 4')"
   ]
  },
  {
   "cell_type": "code",
   "execution_count": 121,
   "metadata": {},
   "outputs": [
    {
     "data": {
      "text/plain": [
       "array([[1, 2],\n",
       "       [3, 4]])"
      ]
     },
     "execution_count": 121,
     "metadata": {},
     "output_type": "execute_result"
    }
   ],
   "source": [
    "k = np.asarray(i)\n",
    "k"
   ]
  },
  {
   "cell_type": "code",
   "execution_count": 122,
   "metadata": {},
   "outputs": [
    {
     "data": {
      "text/plain": [
       "matrix([[1, 2],\n",
       "        [3, 4]])"
      ]
     },
     "execution_count": 122,
     "metadata": {},
     "output_type": "execute_result"
    }
   ],
   "source": [
    "j = np.asmatrix(k)\n",
    "j"
   ]
  },
  {
   "cell_type": "markdown",
   "metadata": {},
   "source": [
    "## Linear Algebra\n",
    "\n",
    "NumPy package contains __numpy.linalg__ module that provides all the functionality required for linear algebra. Some of the important functions in this module are described in the following table.\n",
    "\n",
    "| Function | Description | \n",
    "|------|------|\n",
    "| __dot__ | Dot product of the two arrays |\n",
    "| __vdot__ | Dot product of the two vectors |\n",
    "| __inner__ | Inner product of the two arrays |\n",
    "| __matmul__ | Matrix product of the two arrays |\n",
    "| __determinant__ | Computes the determinant of the array |\n",
    "| __solve__ | Solves the linear matrix equation |\n",
    "| __inv__ | Finds the multiplicative inverse of the matrix |\n"
   ]
  },
  {
   "cell_type": "markdown",
   "metadata": {},
   "source": [
    "## Matplotlib\n",
    "\n",
    "Matplotlib is a plotting library for Python. It is used along with NumPy to provide an environment that is an effective open source alternative for MatLab. It can also be used with graphics toolkits like PyQt and wxPython.\n",
    "\n",
    "Matplotlib module was first written by John D. Hunter. Since 2012, Michael Droettboom is the principal developer. Currently, Matplotlib ver. 1.5.1 is the stable version available. The package is available in binary distribution as well as in the source code form on www.matplotlib.org.\n",
    "\n",
    "Conventionally, the package is imported into the Python script by adding the following statement −\n",
    "\n",
    "```from matplotlib import pyplot as plt```"
   ]
  },
  {
   "cell_type": "code",
   "execution_count": 123,
   "metadata": {
    "collapsed": true
   },
   "outputs": [],
   "source": [
    "%matplotlib inline\n",
    "\n",
    "import matplotlib.pyplot as plt"
   ]
  },
  {
   "cell_type": "code",
   "execution_count": 124,
   "metadata": {},
   "outputs": [
    {
     "data": {
      "image/png": "[encoded data removed]",
      "text/plain": [
       "<matplotlib.figure.Figure at 0x1163465f8>"
      ]
     },
     "metadata": {},
     "output_type": "display_data"
    }
   ],
   "source": [
    "x = np.arange(1, 11)\n",
    "y = 2 * x + 5\n",
    "\n",
    "plt.title('Matplotlib demo')\n",
    "plt.xlabel('x axis caption')\n",
    "plt.ylabel('y axis caption')\n",
    "\n",
    "plt.plot(x, y)\n",
    "plt.show()"
   ]
  },
  {
   "cell_type": "markdown",
   "metadata": {},
   "source": [
    "Instead of the linear graph, the values can be displayed discretely by adding a format string to the plot() function. Following formatting characters can be used.\n",
    "\n",
    "| Character | Description |\n",
    "|------|------|\n",
    "| - | Solid line style | \n",
    "| -- | Dashed line style |\n",
    "| -. | Dash-dot line style |\n",
    "| : | Dotted line style |\n",
    "| . | Point marker |\n",
    "| , | Pixel marker |\n",
    "| o | Circle marker |\n",
    "| v | Triangle_down marker |\n",
    "| ^ | Triangle_up marker |\n",
    "| < , > | Triangle_left, triangle_right markers |\n",
    "| 1, 2, 3, 4 | Tri_down, tri_up, tri_left, tri_right markers |\n",
    "| s | Square marker |\n",
    "| p | Pentagon marker |\n",
    "| \\* | Star marker |\n",
    "| h | Hexagon1 marker |\n",
    "| H | Hexagon2 marker | \n",
    "| + | Plus marker | \n",
    "| x | X marker | \n",
    "| D | Diamond marker | \n",
    "| d | Thin_diamond marker |\n",
    "| 'pipe' | Vline marker |\n",
    "| \\_ | Hline marker |\n",
    "\n",
    "The following color abbreviations are also defined.\n",
    "\n",
    "| Character | Color |\n",
    "|------|------|\n",
    "| b | blue |\n",
    "| g | green |\n",
    "| r | red |\n",
    "| c | cyan |\n",
    "| m | magenta |\n",
    "| y | yellow |\n",
    "| k | black |\n",
    "| w | white |\n",
    "\n",
    "To display green circles representing points, instead of the line in the above example, use \"__ob__\"  as the format string in plot() function."
   ]
  },
  {
   "cell_type": "code",
   "execution_count": 125,
   "metadata": {},
   "outputs": [
    {
     "data": {
      "image/png": "[encoded data removed]",
      "text/plain": [
       "<matplotlib.figure.Figure at 0x11981fd68>"
      ]
     },
     "metadata": {},
     "output_type": "display_data"
    }
   ],
   "source": [
    "plt.plot(x, y, 'og')\n",
    "plt.show()"
   ]
  },
  {
   "cell_type": "markdown",
   "metadata": {},
   "source": [
    "### Sine Wave Plot"
   ]
  },
  {
   "cell_type": "code",
   "execution_count": 126,
   "metadata": {},
   "outputs": [
    {
     "data": {
      "image/png": "[encoded data removed]",
      "text/plain": [
       "<matplotlib.figure.Figure at 0x116315198>"
      ]
     },
     "metadata": {},
     "output_type": "display_data"
    }
   ],
   "source": [
    "x = np.arange(0, 3 * np.pi, 0.1)\n",
    "y = np.sin(x)\n",
    "\n",
    "plt.title('sine wive form')\n",
    "\n",
    "plt.plot(x, y)\n",
    "plt.show()"
   ]
  },
  {
   "cell_type": "markdown",
   "metadata": {},
   "source": [
    "#### subplot()\n",
    "\n",
    "The subplot() function allows you to plot different things in the same figure. In the following script, sine and socine values are plotted."
   ]
  },
  {
   "cell_type": "code",
   "execution_count": 127,
   "metadata": {},
   "outputs": [
    {
     "data": {
      "image/png": "[encoded data removed]",
      "text/plain": [
       "<matplotlib.figure.Figure at 0x1199965c0>"
      ]
     },
     "metadata": {},
     "output_type": "display_data"
    }
   ],
   "source": [
    "y_sin = np.sin(x)\n",
    "y_cos = np.cos(x)\n",
    "\n",
    "# Set up a subplot grid that has height 2 and width 1, and set the first such subplot as active.\n",
    "plt.subplot(2, 1, 1)\n",
    "\n",
    "# Make the first plot\n",
    "plt.plot(x, y_sin)\n",
    "plt.title('Sine')\n",
    "\n",
    "# Set the second subplot as acative, and make the second plot.\n",
    "plt.subplot(2, 1, 2)\n",
    "plt.plot(x, y_cos)\n",
    "plt.title('Cosine')\n",
    "\n",
    "plt.show()"
   ]
  },
  {
   "cell_type": "markdown",
   "metadata": {},
   "source": [
    "#### bar()\n",
    "\n",
    "The pyplot submodule provides __bar()__ function to generate bar graphs. The following example produces the bar graph of two sets of x and y arrays."
   ]
  },
  {
   "cell_type": "code",
   "execution_count": 128,
   "metadata": {},
   "outputs": [
    {
     "data": {
      "image/png": "[encoded data removed]",
      "text/plain": [
       "<matplotlib.figure.Figure at 0x119ba3940>"
      ]
     },
     "metadata": {},
     "output_type": "display_data"
    }
   ],
   "source": [
    "x = [5, 8, 10]\n",
    "y = [12, 16, 6]\n",
    "\n",
    "x2 = [6, 9, 11]\n",
    "y2 = [6, 15, 7]\n",
    "\n",
    "plt.bar(x, y, align='center')\n",
    "plt.bar(x2, y2, color='g', align='center')\n",
    "\n",
    "plt.title('Bar graph')\n",
    "plt.ylabel('Y axis')\n",
    "plt.xlabel('X axis')\n",
    "\n",
    "\n",
    "\n",
    "plt.show()"
   ]
  },
  {
   "cell_type": "markdown",
   "metadata": {},
   "source": [
    "## Histogram Using Matplotlib\n",
    "\n",
    "NumPy has a numpy.histogram() function that is a graphical representation of the frequency distribution of data. Rectangles of equal horizontal size corresponding to class interval called bin and variable height corresponding to frequency.\n",
    "\n",
    "#### numpy.histogram()\n",
    "\n",
    "The numpy.histogram() function takes the input array and bins as two parameters. The successive elements in bin array act as the boundary of each bin. "
   ]
  },
  {
   "cell_type": "code",
   "execution_count": 129,
   "metadata": {},
   "outputs": [
    {
     "data": {
      "text/plain": [
       "(array([3, 4, 5, 2, 1]), array([  0,  20,  40,  60,  80, 100]))"
      ]
     },
     "execution_count": 129,
     "metadata": {},
     "output_type": "execute_result"
    }
   ],
   "source": [
    "a = np.array([22, 87, 5, 43, 56, 73, 55, 54, 11, 20, 51, 5, 79, 31, 27])\n",
    "np.histogram(a, bins=[0, 20, 40, 60, 80, 100])"
   ]
  },
  {
   "cell_type": "markdown",
   "metadata": {},
   "source": [
    "#### plt()\n",
    "\n",
    "Matplotlib can convert this numeric representation of histogram into a graph. The plt() function of pyplot submodule takes the array containing the data and bin array as parameters and converts into a histogram."
   ]
  },
  {
   "cell_type": "code",
   "execution_count": 130,
   "metadata": {},
   "outputs": [
    {
     "data": {
      "image/png": "[encoded data removed]",
      "text/plain": [
       "<matplotlib.figure.Figure at 0x119b9e240>"
      ]
     },
     "metadata": {},
     "output_type": "display_data"
    }
   ],
   "source": [
    "plt.hist(a, bins=[0, 20, 40, 60, 80, 100])\n",
    "plt.title('histogram')\n",
    "plt.show()"
   ]
  },
  {
   "cell_type": "markdown",
   "metadata": {},
   "source": [
    "## I/O with NumPy\n",
    "\n",
    "The ndarray objects can ve saved to and loaded from the disk files. The IO functions available are –\n",
    "- __load()__ and __save()__ functions handle /numPy binary files (with npy extension)\n",
    "- __loadtxt()__ and __savetxt()__ functions handle normal text files\n",
    "\n",
    "NumPy introduces a simple file format for ndarray objects. This .npy file stores data, shape, dtype and other information required to reconstruct the ndarray in a disk file such that the array is correctly retrieved even if the file is on another machine with different architecture.\n",
    "\n",
    "#### numpy.save()\n",
    "\n",
    "The __numpy.save()__ file stores the input arrays in a disk file with npy extension."
   ]
  },
  {
   "cell_type": "code",
   "execution_count": 131,
   "metadata": {
    "collapsed": true
   },
   "outputs": [],
   "source": [
    "a = np.array([1, 2, 3, 4, 5])\n",
    "np.save('outfile', a)"
   ]
  },
  {
   "cell_type": "code",
   "execution_count": 132,
   "metadata": {},
   "outputs": [
    {
     "name": "stdout",
     "output_type": "stream",
     "text": [
      "[1 2 3 4 5]\n"
     ]
    }
   ],
   "source": [
    "b = np.load('outfile.npy')\n",
    "print(b)"
   ]
  },
  {
   "cell_type": "markdown",
   "metadata": {},
   "source": [
    "The save() and load() functions accept an additional Boolean parameter allow_pickles. A pickle in Python is used to serialize and de-serialize objects before saving to or reading from a disk file."
   ]
  },
  {
   "cell_type": "markdown",
   "metadata": {},
   "source": [
    "#### savetxt()\n",
    "\n",
    "The storage and retrieval of array data in simple text file format is done with __savetxt()__ and __loadtxt()__ functions."
   ]
  },
  {
   "cell_type": "code",
   "execution_count": 133,
   "metadata": {},
   "outputs": [
    {
     "name": "stdout",
     "output_type": "stream",
     "text": [
      "[ 1.  2.  3.  4.  5.]\n"
     ]
    }
   ],
   "source": [
    "np.savetxt('out.txt', a)\n",
    "b = np.loadtxt('out.txt')\n",
    "print(b)"
   ]
  }
 ],
 "metadata": {
  "kernelspec": {
   "display_name": "Python 3",
   "language": "python",
   "name": "python3"
  },
  "language_info": {
   "codemirror_mode": {
    "name": "ipython",
    "version": 3
   },
   "file_extension": ".py",
   "mimetype": "text/x-python",
   "name": "python",
   "nbconvert_exporter": "python",
   "pygments_lexer": "ipython3",
   "version": "3.6.1"
  }
 },
 "nbformat": 4,
 "nbformat_minor": 2
}
